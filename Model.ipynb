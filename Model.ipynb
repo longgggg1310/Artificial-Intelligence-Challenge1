{
  "nbformat": 4,
  "nbformat_minor": 0,
  "metadata": {
    "colab": {
      "name": "Model.ipynb",
      "provenance": [],
      "authorship_tag": "ABX9TyMhZ/8Urypb6lpqLPtg7M2Z",
      "include_colab_link": true
    },
    "kernelspec": {
      "name": "python3",
      "display_name": "Python 3"
    },
    "language_info": {
      "name": "python"
    }
  },
  "cells": [
    {
      "cell_type": "markdown",
      "metadata": {
        "id": "view-in-github",
        "colab_type": "text"
      },
      "source": [
        "<a href=\"https://colab.research.google.com/github/longgggg1310/Artificial-Intelligence-Challenge1/blob/main/Model.ipynb\" target=\"_parent\"><img src=\"https://colab.research.google.com/assets/colab-badge.svg\" alt=\"Open In Colab\"/></a>"
      ]
    },
    {
      "cell_type": "code",
      "execution_count": null,
      "metadata": {
        "id": "EtEkb8OTw0Yl"
      },
      "outputs": [],
      "source": [
        "!mkdir data\n"
      ]
    },
    {
      "cell_type": "code",
      "source": [
        "cd data\n"
      ],
      "metadata": {
        "colab": {
          "base_uri": "https://localhost:8080/"
        },
        "id": "fK431-8Hw4TC",
        "outputId": "7d4dc6f6-11a6-4963-ccf3-747f3d240456"
      },
      "execution_count": null,
      "outputs": [
        {
          "output_type": "stream",
          "name": "stdout",
          "text": [
            "/content/data\n"
          ]
        }
      ]
    },
    {
      "cell_type": "code",
      "source": [
        "cd ..\n"
      ],
      "metadata": {
        "colab": {
          "base_uri": "https://localhost:8080/"
        },
        "id": "eCrDJEuAw4VJ",
        "outputId": "045bf4e9-25d0-4a11-920e-4d924d4d4218"
      },
      "execution_count": null,
      "outputs": [
        {
          "output_type": "stream",
          "name": "stdout",
          "text": [
            "/content\n"
          ]
        }
      ]
    },
    {
      "cell_type": "code",
      "source": [
        "from sklearn.model_selection import train_test_split as tts\n",
        "from keras.models import Sequential\n",
        "from keras.layers import Dense, Dropout, Conv2D, MaxPooling2D, Flatten\n",
        "from keras.utils import np_utils\n",
        "from random import randint\n",
        "import numpy as np\n",
        "import os\n",
        "from PIL import Image\n",
        "import matplotlib.pyplot as plt\n",
        "import tensorflow as tf\n",
        "import tensorflow \n",
        "from tensorflow.keras import layers\n",
        "\n",
        "from tensorflow import keras"
      ],
      "metadata": {
        "id": "X7UEo-P0w4W8"
      },
      "execution_count": null,
      "outputs": []
    },
    {
      "cell_type": "code",
      "source": [
        "cd data\n"
      ],
      "metadata": {
        "colab": {
          "base_uri": "https://localhost:8080/"
        },
        "id": "V1NbU01fw4ZE",
        "outputId": "9d3c2b64-4891-42cb-e47f-5c431cabd075"
      },
      "execution_count": null,
      "outputs": [
        {
          "output_type": "stream",
          "name": "stdout",
          "text": [
            "/content/data\n"
          ]
        }
      ]
    },
    {
      "cell_type": "code",
      "source": [
        "!wget https://storage.googleapis.com/quickdraw_dataset/full/numpy_bitmap/umbrella.npy\n",
        "!wget https://storage.googleapis.com/quickdraw_dataset/full/numpy_bitmap/banana.npy\n",
        "!wget https://storage.googleapis.com/quickdraw_dataset/full/numpy_bitmap/grapes.npy\n",
        "!wget https://storage.googleapis.com/quickdraw_dataset/full/numpy_bitmap/pineapple.npy"
      ],
      "metadata": {
        "colab": {
          "base_uri": "https://localhost:8080/"
        },
        "id": "Os2Sti9Iw4a_",
        "outputId": "b81900b2-45f9-41d7-e097-de425f1c96d7"
      },
      "execution_count": null,
      "outputs": [
        {
          "output_type": "stream",
          "name": "stdout",
          "text": [
            "--2021-12-12 03:51:21--  https://storage.googleapis.com/quickdraw_dataset/full/numpy_bitmap/umbrella.npy\n",
            "Resolving storage.googleapis.com (storage.googleapis.com)... 74.125.137.128, 142.250.141.128, 2607:f8b0:4023:c0b::80\n",
            "Connecting to storage.googleapis.com (storage.googleapis.com)|74.125.137.128|:443... connected.\n",
            "HTTP request sent, awaiting response... 200 OK\n",
            "Length: 97281936 (93M) [application/octet-stream]\n",
            "Saving to: ‘umbrella.npy’\n",
            "\n",
            "umbrella.npy        100%[===================>]  92.77M  46.6MB/s    in 2.0s    \n",
            "\n",
            "2021-12-12 03:51:24 (46.6 MB/s) - ‘umbrella.npy’ saved [97281936/97281936]\n",
            "\n",
            "--2021-12-12 03:51:24--  https://storage.googleapis.com/quickdraw_dataset/full/numpy_bitmap/banana.npy\n",
            "Resolving storage.googleapis.com (storage.googleapis.com)... 142.250.141.128, 2607:f8b0:4023:c0b::80\n",
            "Connecting to storage.googleapis.com (storage.googleapis.com)|142.250.141.128|:443... connected.\n",
            "HTTP request sent, awaiting response... 200 OK\n",
            "Length: 241421904 (230M) [application/octet-stream]\n",
            "Saving to: ‘banana.npy’\n",
            "\n",
            "banana.npy          100%[===================>] 230.24M  64.7MB/s    in 3.6s    \n",
            "\n",
            "2021-12-12 03:51:28 (64.7 MB/s) - ‘banana.npy’ saved [241421904/241421904]\n",
            "\n",
            "--2021-12-12 03:51:28--  https://storage.googleapis.com/quickdraw_dataset/full/numpy_bitmap/grapes.npy\n",
            "Resolving storage.googleapis.com (storage.googleapis.com)... 142.250.141.128, 74.125.137.128, 2607:f8b0:4023:c0b::80\n",
            "Connecting to storage.googleapis.com (storage.googleapis.com)|142.250.141.128|:443... connected.\n",
            "HTTP request sent, awaiting response... 200 OK\n",
            "Length: 121759200 (116M) [application/octet-stream]\n",
            "Saving to: ‘grapes.npy’\n",
            "\n",
            "grapes.npy          100%[===================>] 116.12M  43.2MB/s    in 2.7s    \n",
            "\n",
            "2021-12-12 03:51:31 (43.2 MB/s) - ‘grapes.npy’ saved [121759200/121759200]\n",
            "\n",
            "--2021-12-12 03:51:31--  https://storage.googleapis.com/quickdraw_dataset/full/numpy_bitmap/pineapple.npy\n",
            "Resolving storage.googleapis.com (storage.googleapis.com)... 74.125.137.128, 142.250.141.128, 2607:f8b0:4023:c0b::80\n",
            "Connecting to storage.googleapis.com (storage.googleapis.com)|74.125.137.128|:443... connected.\n",
            "HTTP request sent, awaiting response... 200 OK\n",
            "Length: 98055744 (94M) [application/octet-stream]\n",
            "Saving to: ‘pineapple.npy’\n",
            "\n",
            "pineapple.npy       100%[===================>]  93.51M  51.8MB/s    in 1.8s    \n",
            "\n",
            "2021-12-12 03:51:33 (51.8 MB/s) - ‘pineapple.npy’ saved [98055744/98055744]\n",
            "\n"
          ]
        }
      ]
    },
    {
      "cell_type": "code",
      "source": [
        "cd ..\n"
      ],
      "metadata": {
        "colab": {
          "base_uri": "https://localhost:8080/"
        },
        "id": "HnLL_EW_w4c2",
        "outputId": "841bb478-432f-49cd-db87-60ce7cd8bf36"
      },
      "execution_count": null,
      "outputs": [
        {
          "output_type": "stream",
          "name": "stdout",
          "text": [
            "/content\n"
          ]
        }
      ]
    },
    {
      "cell_type": "code",
      "source": [
        "import urllib.request\n",
        "\n",
        "base = 'https://storage.googleapis.com/quickdraw_dataset/full/numpy_bitmap/'\n",
        "root = 'data2'\n",
        "class_names = ['umbrella', 'banana', 'grapes', 'pineapple']\n",
        "for c in class_names:\n",
        "    path = base+c+'.npy'\n",
        "    print(path)\n",
        "    urllib.request.urlretrieve(path, f'{root}/{c}.npy')\n",
        "print('Download data sucesss')"
      ],
      "metadata": {
        "colab": {
          "base_uri": "https://localhost:8080/"
        },
        "id": "_AxRR5MQxFbZ",
        "outputId": "5ff15114-a11f-4017-dd58-3eccdf2d09c5"
      },
      "execution_count": null,
      "outputs": [
        {
          "output_type": "stream",
          "name": "stdout",
          "text": [
            "https://storage.googleapis.com/quickdraw_dataset/full/numpy_bitmap/umbrella.npy\n",
            "https://storage.googleapis.com/quickdraw_dataset/full/numpy_bitmap/banana.npy\n",
            "https://storage.googleapis.com/quickdraw_dataset/full/numpy_bitmap/grapes.npy\n",
            "https://storage.googleapis.com/quickdraw_dataset/full/numpy_bitmap/pineapple.npy\n",
            "Download data sucesss\n"
          ]
        }
      ]
    },
    {
      "cell_type": "code",
      "source": [
        "test_split = 0.2\n",
        "max_items_per_class = 10000\n",
        "x = np.empty([0, 784])\n",
        "y = np.empty([0])\n",
        "for i, file in enumerate(class_names):\n",
        "      data = np.load(f'{root}/{file}.npy')\n",
        "      data = data[0: max_items_per_class, :]\n",
        "      labels = np.full(data.shape[0], i)\n",
        "\n",
        "      x = np.concatenate((x, data), axis=0)\n",
        "      y = np.append(y, labels)\n",
        "\n",
        "data = None\n",
        "labels = None\n",
        "permutation = np.random.permutation(y.shape[0])\n",
        "x = x[permutation, :]\n",
        "y = y[permutation]\n",
        "\n",
        "  #reshape and inverse the colors \n",
        "x = 255 - np.reshape(x, (x.shape[0], 28, 28))\n",
        "\n",
        "  #separate into training and testing \n",
        "test_size  = int(x.shape[0]/100*(test_split*100))\n",
        "\n",
        "x_test = x[0:test_size, :]\n",
        "y_test = y[0:test_size]\n",
        "\n",
        "x_train = x[test_size:x.shape[0], :]\n",
        "y_train = y[test_size:y.shape[0]]\n",
        "\n",
        "print('Training Data : ', x_train.shape[0])\n",
        "print('Testing  Data : ', x_test.shape[0])"
      ],
      "metadata": {
        "colab": {
          "base_uri": "https://localhost:8080/"
        },
        "id": "OK6E_CNLxFdj",
        "outputId": "9afaf7fe-fdf6-4233-bcc8-34e04b1d5ed8"
      },
      "execution_count": null,
      "outputs": [
        {
          "output_type": "stream",
          "name": "stdout",
          "text": [
            "Training Data :  32000\n",
            "Testing  Data :  8000\n"
          ]
        }
      ]
    },
    {
      "cell_type": "code",
      "source": [
        "X = np.concatenate((x_test,x_train),axis = 0)\n",
        "y = np.concatenate((y_test,y_train))"
      ],
      "metadata": {
        "id": "QhaAiHAbxFfS"
      },
      "execution_count": null,
      "outputs": []
    },
    {
      "cell_type": "code",
      "source": [
        "def visualize_classes():\n",
        "  for i in range(0, 4):\n",
        "    img_batch = x_train[y_train == i][0:4]\n",
        "    img_batch = np.reshape(img_batch, (img_batch.shape[0]*img_batch.shape[1], img_batch.shape[2]))\n",
        "    if i > 0:\n",
        "      img = np.concatenate([img, img_batch], axis = 1)\n",
        "    else:\n",
        "      img = img_batch\n",
        "  plt.figure(figsize=(10,20))\n",
        "  plt.axis('off')\n",
        "  plt.imshow(img)"
      ],
      "metadata": {
        "id": "TvL556SJxFhd"
      },
      "execution_count": null,
      "outputs": []
    },
    {
      "cell_type": "code",
      "source": [
        "visualize_classes()\n"
      ],
      "metadata": {
        "colab": {
          "base_uri": "https://localhost:8080/",
          "height": 589
        },
        "id": "3MTX9QrSxFjL",
        "outputId": "29f9ff2c-a225-4dc3-edd9-01d0d83d7ead"
      },
      "execution_count": null,
      "outputs": [
        {
          "output_type": "display_data",
          "data": {
            "image/png": "[encoded data removed]",
            "text/plain": [
              "<Figure size 720x1440 with 1 Axes>"
            ]
          },
          "metadata": {
            "needs_background": "light"
          }
        }
      ]
    },
    {
      "cell_type": "code",
      "source": [
        "\n",
        "image_size = 28\n",
        "\n",
        "# Reshape and normalize\n",
        "x_train = x_train.reshape(x_train.shape[0], image_size, image_size, 1).astype('float32')\n",
        "x_test = x_test.reshape(x_test.shape[0], image_size, image_size, 1).astype('float32')\n",
        "\n",
        "x_train /= 255.0\n",
        "x_test /= 255.0\n",
        "\n",
        "# Convert class vectors to class matrices\n",
        "y_train = keras.utils.to_categorical(y_train, len(class_names))\n",
        "y_test = keras.utils.to_categorical(y_test, len(class_names))"
      ],
      "metadata": {
        "id": "Zs-45FB-xSfv"
      },
      "execution_count": null,
      "outputs": []
    },
    {
      "cell_type": "code",
      "source": [
        "# Define model\n",
        "model = keras.Sequential()\n",
        "model.add(layers.Convolution2D(30, (3, 3),\n",
        "                        padding='same',\n",
        "                        input_shape=x_train.shape[1:], activation='relu'))\n",
        "model.add(layers.MaxPooling2D(pool_size=(2, 2)))\n",
        "model.add(layers.Convolution2D(15, (3, 3), padding='same', activation= 'relu'))\n",
        "model.add(layers.MaxPooling2D(pool_size=(2, 2)))\n",
        "model.add(layers.Dropout(0.2))\n",
        "model.add(layers.Flatten())\n",
        "model.add(layers.Dense(128, activation='relu'))\n",
        "model.add(layers.Dense(50, activation='relu'))\n",
        "\n",
        "model.add(layers.Dense(len(class_names), activation='softmax')) \n",
        "# Train model\n",
        "model.compile(loss='categorical_crossentropy',\n",
        "              optimizer='adam',\n",
        "              metrics=['accuracy'])\n",
        "print(model.summary())"
      ],
      "metadata": {
        "colab": {
          "base_uri": "https://localhost:8080/"
        },
        "id": "ZTH7Uc93xSik",
        "outputId": "c4be8863-23c8-4c52-e918-2ac89157567e"
      },
      "execution_count": null,
      "outputs": [
        {
          "output_type": "stream",
          "name": "stdout",
          "text": [
            "Model: \"sequential\"\n",
            "_________________________________________________________________\n",
            " Layer (type)                Output Shape              Param #   \n",
            "=================================================================\n",
            " conv2d (Conv2D)             (None, 28, 28, 30)        300       \n",
            "                                                                 \n",
            " max_pooling2d (MaxPooling2D  (None, 14, 14, 30)       0         \n",
            " )                                                               \n",
            "                                                                 \n",
            " conv2d_1 (Conv2D)           (None, 14, 14, 15)        4065      \n",
            "                                                                 \n",
            " max_pooling2d_1 (MaxPooling  (None, 7, 7, 15)         0         \n",
            " 2D)                                                             \n",
            "                                                                 \n",
            " dropout (Dropout)           (None, 7, 7, 15)          0         \n",
            "                                                                 \n",
            " flatten (Flatten)           (None, 735)               0         \n",
            "                                                                 \n",
            " dense (Dense)               (None, 128)               94208     \n",
            "                                                                 \n",
            " dense_1 (Dense)             (None, 50)                6450      \n",
            "                                                                 \n",
            " dense_2 (Dense)             (None, 4)                 204       \n",
            "                                                                 \n",
            "=================================================================\n",
            "Total params: 105,227\n",
            "Trainable params: 105,227\n",
            "Non-trainable params: 0\n",
            "_________________________________________________________________\n",
            "None\n"
          ]
        }
      ]
    },
    {
      "cell_type": "code",
      "source": [
        "history = model.fit(x = x_train, y = y_train, validation_split=0.1, batch_size = 256, epochs=10)\n"
      ],
      "metadata": {
        "colab": {
          "base_uri": "https://localhost:8080/"
        },
        "id": "I8_AicrUxSlG",
        "outputId": "e4dea76e-63fd-4e80-d437-dcfa79469407"
      },
      "execution_count": null,
      "outputs": [
        {
          "output_type": "stream",
          "name": "stdout",
          "text": [
            "Epoch 1/10\n",
            "113/113 [==============================] - 22s 185ms/step - loss: 0.5183 - accuracy: 0.8195 - val_loss: 0.2744 - val_accuracy: 0.9091\n",
            "Epoch 2/10\n",
            "113/113 [==============================] - 21s 184ms/step - loss: 0.2404 - accuracy: 0.9220 - val_loss: 0.2018 - val_accuracy: 0.9359\n",
            "Epoch 3/10\n",
            "113/113 [==============================] - 21s 184ms/step - loss: 0.1890 - accuracy: 0.9392 - val_loss: 0.1712 - val_accuracy: 0.9453\n",
            "Epoch 4/10\n",
            "113/113 [==============================] - 21s 183ms/step - loss: 0.1629 - accuracy: 0.9477 - val_loss: 0.1531 - val_accuracy: 0.9516\n",
            "Epoch 5/10\n",
            "113/113 [==============================] - 21s 183ms/step - loss: 0.1438 - accuracy: 0.9539 - val_loss: 0.1279 - val_accuracy: 0.9597\n",
            "Epoch 6/10\n",
            "113/113 [==============================] - 21s 185ms/step - loss: 0.1283 - accuracy: 0.9589 - val_loss: 0.1236 - val_accuracy: 0.9603\n",
            "Epoch 7/10\n",
            "113/113 [==============================] - 21s 185ms/step - loss: 0.1178 - accuracy: 0.9616 - val_loss: 0.1191 - val_accuracy: 0.9619\n",
            "Epoch 8/10\n",
            "113/113 [==============================] - 21s 184ms/step - loss: 0.1073 - accuracy: 0.9646 - val_loss: 0.1057 - val_accuracy: 0.9672\n",
            "Epoch 9/10\n",
            "113/113 [==============================] - 21s 185ms/step - loss: 0.1004 - accuracy: 0.9676 - val_loss: 0.1056 - val_accuracy: 0.9656\n",
            "Epoch 10/10\n",
            "113/113 [==============================] - 21s 184ms/step - loss: 0.0922 - accuracy: 0.9691 - val_loss: 0.1011 - val_accuracy: 0.9694\n"
          ]
        }
      ]
    },
    {
      "cell_type": "code",
      "source": [
        "def plot_history(history):\n",
        "  \n",
        "  loss = model.history.history['loss']\n",
        "  val_loss = model.history.history['val_loss']\n",
        "\n",
        "  accuracy = model.history.history['accuracy']\n",
        "  val_accuracy = model.history.history['val_accuracy']\n",
        "\n",
        "  epochs_range = np.arange(len(model.history.history['loss']))\n",
        "\n",
        "  plt.figure(figsize=(10, 5))\n",
        "  plt.subplot(1, 2, 1)\n",
        "  plt.plot(epochs_range, accuracy, label='Training Accuracy')\n",
        "  plt.plot(epochs_range, val_accuracy, label='Validation Accuracy')\n",
        "  plt.legend(loc='lower right')\n",
        "  plt.title('Training and Validation Accuracy')\n",
        "\n",
        "  plt.subplot(1, 2, 2)\n",
        "  plt.plot(epochs_range, loss, label='Training Loss')\n",
        "  plt.plot(epochs_range, val_loss, label='Validation Loss')\n",
        "  plt.legend(loc='upper right')\n",
        "  plt.title('Training and Validation Loss')\n",
        "  #plt.savefig('./foo.png')\n",
        "  plt.show()\n",
        "  \n",
        "########################\n",
        "  \n",
        "plot_history(history)"
      ],
      "metadata": {
        "colab": {
          "base_uri": "https://localhost:8080/",
          "height": 336
        },
        "id": "-e-UvbGexSse",
        "outputId": "ac638638-ff53-426c-ffe7-e8f5940b2dfc"
      },
      "execution_count": null,
      "outputs": [
        {
          "output_type": "display_data",
          "data": {
            "image/png": "[encoded data removed]",
            "text/plain": [
              "<Figure size 720x360 with 2 Axes>"
            ]
          },
          "metadata": {
            "needs_background": "light"
          }
        }
      ]
    },
    {
      "cell_type": "code",
      "source": [
        "model.save('model.h5')"
      ],
      "metadata": {
        "id": "sgXGHpATxSuW"
      },
      "execution_count": null,
      "outputs": []
    },
    {
      "cell_type": "code",
      "source": [
        ""
      ],
      "metadata": {
        "id": "zZY7gZ7Qw4e8"
      },
      "execution_count": null,
      "outputs": []
    }
  ]
}